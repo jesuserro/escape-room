{
 "cells": [
  {
   "cell_type": "code",
   "execution_count": null,
   "metadata": {},
   "outputs": [
    {
     "name": "stdout",
     "output_type": "stream",
     "text": [
      "Time left: 05:00 minutes. \n",
      "You wake up on a couch and find yourself in a strange house with no windows which you have never been to before.\n",
      "You don't remember why you are here and what had happened before.\n",
      "You feel some unknown danger is approaching and you must get out of the house, NOW!\n",
      "\n",
      "\n",
      "Time left: 05:00 minutes\n",
      "You are now in game room\n",
      "Time left: 04:56 minutes. You explore the room. This is game room. You find couch, piano, door a\n"
     ]
    },
    {
     "data": {
      "image/jpeg": "[encoded data removed]",
      "text/plain": [
       "<IPython.core.display.Image object>"
      ]
     },
     "metadata": {},
     "output_type": "display_data"
    },
    {
     "name": "stdout",
     "output_type": "stream",
     "text": [
      "\n",
      "Time left: 04:56 minutes\n",
      "You are now in game room\n",
      "Time left: 04:26 minutes. You examine piano. You find key for door a.\n",
      "\n",
      "Time left: 04:26 minutes\n",
      "You are now in game room\n"
     ]
    }
   ],
   "source": [
    "# Importamos las funciones desde functions.py\n",
    "import importlib  # Importamos importlib para recargar el módulo\n",
    "import functions  # Importamos el módulo normalmente\n",
    "\n",
    "importlib.reload(functions)\n",
    "\n",
    "from functions import start_game\n",
    "import copy\n",
    "\n",
    "# Define rooms and items\n",
    "couch = {\"name\": \"couch\", \"type\": \"furniture\"}\n",
    "door_a = {\"name\": \"door a\", \"type\": \"door\"}\n",
    "door_b = {\"name\": \"door b\", \"type\": \"door\"}\n",
    "door_c = {\"name\": \"door c\", \"type\": \"door\"}\n",
    "door_d = {\"name\": \"door d\", \"type\": \"door\"}\n",
    "piano = {\"name\": \"piano\", \"type\": \"furniture\"}\n",
    "queen_bed = {\"name\": \"queen bed\", \"type\": \"furniture\"}\n",
    "double_bed = {\"name\": \"double bed\", \"type\": \"furniture\"}\n",
    "dresser = {\"name\": \"dresser\", \"type\": \"furniture\"}\n",
    "dinning_table = {\"name\": \"dinning table\", \"type\": \"furniture\"}\n",
    "\n",
    "# Define keys\n",
    "key_a = {\"name\": \"key for door a\", \"type\": \"key\", \"target\": door_a}\n",
    "key_b = {\"name\": \"key for door b\", \"type\": \"key\", \"target\": door_b}\n",
    "key_c = {\"name\": \"key for door c\", \"type\": \"key\", \"target\": door_c}\n",
    "key_d = {\"name\": \"key for door d\", \"type\": \"key\", \"target\": door_d}\n",
    "\n",
    "# Define rooms\n",
    "game_room = {\"name\": \"game room\", \"type\": \"room\"}\n",
    "bedroom1_room = {\"name\": \"bedroom 1\", \"type\": \"room\"}\n",
    "bedroom2_room = {\"name\": \"bedroom 2\", \"type\": \"room\"}\n",
    "living_room = {\"name\": \"living room\", \"type\": \"room\"}\n",
    "outside = {\"name\": \"outside\"}\n",
    "\n",
    "# Define object relations\n",
    "object_relations = {\n",
    "    \"game room\": [couch, piano, door_a],\n",
    "    \"bedroom 1\": [queen_bed, door_a, door_b, door_c],\n",
    "    \"bedroom 2\": [double_bed, dresser, door_b],\n",
    "    \"living room\": [dinning_table, door_c, door_d],\n",
    "    \"piano\": [key_a],\n",
    "    \"queen bed\": [key_b],\n",
    "    \"double bed\": [key_c],\n",
    "    \"dresser\": [key_d],\n",
    "    \"dining table\": [],\n",
    "    \"door a\": [game_room, bedroom1_room],\n",
    "    \"door b\": [bedroom1_room, bedroom2_room],\n",
    "    \"door c\": [bedroom1_room, living_room],\n",
    "    \"door d\": [outside],\n",
    "    \"outside\": [door_d],\n",
    "}\n",
    "\n",
    "# Define game state\n",
    "INIT_GAME_STATE = {\n",
    "    \"current_room\": game_room,\n",
    "    \"keys_collected\": [],\n",
    "    \"target_room\": outside\n",
    "}\n",
    "\n",
    "# Start game\n",
    "game_state = copy.deepcopy(INIT_GAME_STATE)\n",
    "start_game(game_state, object_relations)"
   ]
  }
 ],
 "metadata": {
  "kernelspec": {
   "display_name": "base",
   "language": "python",
   "name": "python3"
  },
  "language_info": {
   "codemirror_mode": {
    "name": "ipython",
    "version": 3
   },
   "file_extension": ".py",
   "mimetype": "text/x-python",
   "name": "python",
   "nbconvert_exporter": "python",
   "pygments_lexer": "ipython3",
   "version": "3.12.7"
  }
 },
 "nbformat": 4,
 "nbformat_minor": 2
}
